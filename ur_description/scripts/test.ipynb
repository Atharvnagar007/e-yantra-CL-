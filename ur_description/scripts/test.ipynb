{
 "cells": [
  {
   "cell_type": "code",
   "execution_count": null,
   "metadata": {},
   "outputs": [],
   "source": [
    "import numpy as np"
   ]
  },
  {
   "cell_type": "code",
   "execution_count": null,
   "metadata": {},
   "outputs": [],
   "source": [
    "def calculate_rectangle_area(coordinates):\n",
    "    '''\n",
    "    Description:    Function to calculate area or detected aruco\n",
    "\n",
    "    Args:\n",
    "        coordinates (list):     coordinates of detected aruco (4 set of (x,y) coordinates)\n",
    "\n",
    "    Returns:\n",
    "        area        (float):    area of detected aruco\n",
    "        width       (float):    width of detected aruco\n",
    "    '''\n",
    "\n",
    "    ############ Function VARIABLES ############\n",
    "\n",
    "    # You can remove these variables after reading the instructions. These are just for sample.\n",
    "\n",
    "    area = None\n",
    "    width = None\n",
    "\n",
    "    ############ ADD YOUR CODE HERE ############\n",
    "\n",
    "    # INSTRUCTIONS & HELP : \n",
    "    #\t->  Recevice coordiantes from 'detectMarkers' using cv2.aruco library \n",
    "    #       and use these coordinates to calculate area and width of aruco detected.\n",
    "    #\t->  Extract values from input set of 4 (x,y) coordinates \n",
    "    #       and formulate width and height of aruco detected to return 'area' and 'width'.\n",
    "\n",
    "    ############################################\n",
    "    #My code\n",
    "    coords = np.array(coordinates)\n",
    "    v1,v2,v3,v4 = coords[1]-coords[0], coords[2]-coords[1], coords[3]-coords[2], coords[0]-coords[3]\n",
    "\n",
    "    area = 0.5 * np.cross(v1, v2) + 0.5 * np.cross(v3, v4)\n",
    "    width = np.sqrt(area)\n",
    "\n",
    "    return area, width"
   ]
  },
  {
   "cell_type": "code",
   "execution_count": null,
   "metadata": {},
   "outputs": [],
   "source": [
    "c = [(0,0),(0,4),(4,5),(5,0)]\n",
    "print(calculate_rectangle_area)"
   ]
  }
 ],
 "metadata": {
  "language_info": {
   "name": "python"
  },
  "orig_nbformat": 4
 },
 "nbformat": 4,
 "nbformat_minor": 2
}
