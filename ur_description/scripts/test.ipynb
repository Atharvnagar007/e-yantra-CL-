{
 "cells": [
  {
   "cell_type": "code",
   "execution_count": 188,
   "metadata": {},
   "outputs": [],
   "source": [
    "import numpy as np\n",
    "import cv2"
   ]
  },
  {
   "cell_type": "code",
   "execution_count": 189,
   "metadata": {},
   "outputs": [
    {
     "data": {
      "text/plain": [
       "-1"
      ]
     },
     "execution_count": 189,
     "metadata": {},
     "output_type": "execute_result"
    }
   ],
   "source": [
    "img = cv2.imread(\"images/Screenshot from 2023-09-30 18-15-58.png\")\n",
    "img_grey = cv2.cvtColor(img, cv2.COLOR_BGR2GRAY)\n",
    "cv2.imshow(\"grey\", img)\n",
    "cv2.waitKey(0)"
   ]
  },
  {
   "cell_type": "code",
   "execution_count": 190,
   "metadata": {},
   "outputs": [],
   "source": [
    "center_aruco_list = []\n",
    "distance_from_rgb_list = []\n",
    "angle_aruco_list = []\n",
    "width_aruco_list = []\n",
    "marker_id_list = []\n",
    "ids = []"
   ]
  },
  {
   "cell_type": "code",
   "execution_count": 191,
   "metadata": {},
   "outputs": [],
   "source": [
    "aruco_dictionary = cv2.aruco.getPredefinedDictionary(cv2.aruco.DICT_4X4_50)\n",
    "markerCorners, markerIds, rejectedCandidates = cv2.aruco.detectMarkers(img_grey, aruco_dictionary)"
   ]
  },
  {
   "cell_type": "code",
   "execution_count": 192,
   "metadata": {},
   "outputs": [],
   "source": [
    "def calculate_rectangle_area(coordinates):\n",
    "    '''\n",
    "    Description:    Function to calculate area or detected aruco\n",
    "\n",
    "    Args:\n",
    "        coordinates (list):     coordinates of detected aruco (4 set of (x,y) coordinates)\n",
    "\n",
    "    Returns:\n",
    "        area        (float):    area of detected aruco\n",
    "        width       (float):    width of detected aruco\n",
    "    '''\n",
    "\n",
    "    ############ Function VARIABLES ############\n",
    "\n",
    "    # You can remove these variables after reading the instructions. These are just for sample.\n",
    "\n",
    "    area = None\n",
    "    width = None\n",
    "\n",
    "    #My code\n",
    "    coords = np.array(coordinates)\n",
    "    v1,v2,v3,v4 = coords[1]-coords[0], coords[2]-coords[1], coords[3]-coords[2], coords[0]-coords[3]\n",
    "\n",
    "    area = np.abs(0.5 * np.cross(v1, v2) + 0.5 * np.cross(v3, v4))\n",
    "    width = np.sqrt(area)\n",
    "\n",
    "    return area, width\n"
   ]
  },
  {
   "cell_type": "code",
   "execution_count": 193,
   "metadata": {},
   "outputs": [
    {
     "name": "stdout",
     "output_type": "stream",
     "text": [
      "[array([0], dtype=int32), array([0], dtype=int32)]\n",
      "[array([797.25, 364.5 ]), array([259.25, 372.25])]\n",
      "[384.66348929941347, 429.7220031601826]\n"
     ]
    }
   ],
   "source": [
    "area_threshold = 1000\n",
    "corners_aruco_list = []\n",
    "\n",
    "for i,I in enumerate(markerCorners):\n",
    "    coords = I[0]   #I[0] is just syntax soup for greyscale images. it makes much more sense to think about it in an RGB way. I[0] means red, I[1] green and I[2] blue etc etc. But this isnt an RGB image so here its just I[0] means black and white.\n",
    "    area, width = calculate_rectangle_area(coords)\n",
    "    if area > area_threshold:\n",
    "        center = np.zeros(2)\n",
    "        for J in I[0]:\n",
    "            center += J\n",
    "        center /= 4\n",
    "        center_aruco_list.append(center)\n",
    "        width_aruco_list.append(width)\n",
    "        marker_id_list.append(markerIds[i])\n",
    "        corners_aruco_list.append(I)\n",
    "\n",
    "print(marker_id_list, center_aruco_list, width_aruco_list, sep='\\n')\n",
    "        "
   ]
  },
  {
   "cell_type": "code",
   "execution_count": 194,
   "metadata": {},
   "outputs": [
    {
     "data": {
      "text/plain": [
       "(array([[[662.,  82.],\n",
       "         [946., 118.],\n",
       "         [929., 580.],\n",
       "         [652., 678.]]], dtype=float32),\n",
       " array([[[ 92., 109.],\n",
       "         [423.,  66.],\n",
       "         [420., 719.],\n",
       "         [102., 595.]]], dtype=float32))"
      ]
     },
     "execution_count": 194,
     "metadata": {},
     "output_type": "execute_result"
    }
   ],
   "source": [
    "markerCorners"
   ]
  },
  {
   "cell_type": "code",
   "execution_count": 195,
   "metadata": {},
   "outputs": [],
   "source": [
    "corners_aruco_list = tuple(corners_aruco_list)"
   ]
  },
  {
   "cell_type": "code",
   "execution_count": 196,
   "metadata": {},
   "outputs": [],
   "source": [
    "centers = np.array(center_aruco_list)\n",
    "widths = np.array(width_aruco_list)\n",
    "ids = np.array(marker_id_list)"
   ]
  },
  {
   "cell_type": "code",
   "execution_count": 197,
   "metadata": {},
   "outputs": [
    {
     "data": {
      "text/plain": [
       "-1"
      ]
     },
     "execution_count": 197,
     "metadata": {},
     "output_type": "execute_result"
    }
   ],
   "source": [
    "cv2.aruco.drawDetectedMarkers(img, corners_aruco_list, ids)\n",
    "cv2.imshow(\"img\", img)\n",
    "cv2.waitKey(0)"
   ]
  },
  {
   "cell_type": "code",
   "execution_count": 198,
   "metadata": {},
   "outputs": [
    {
     "name": "stdout",
     "output_type": "stream",
     "text": [
      "[[[-2.80226703  0.04451172 -1.18767844]]\n",
      "\n",
      " [[-2.92821857 -0.07781272  0.91090604]]]\n",
      "\n",
      "[[[ 0.05568862  0.00251957  0.28011792]]\n",
      "\n",
      " [[-0.11091453  0.00434848  0.25298085]]]\n"
     ]
    }
   ],
   "source": [
    "cam_mat = np.array([[931.1829833984375, 0.0, 640.0], [0.0, 931.1829833984375, 360.0], [0.0, 0.0, 1.0]])\n",
    "dist_mat = np.array([0.0,0.0,0.0,0.0,0.0])\n",
    "size_of_aruco_m = 0.15\n",
    "\n",
    "rvecs, tvecs, obj_points = cv2.aruco.estimatePoseSingleMarkers(corners_aruco_list, size_of_aruco_m, cam_mat, dist_mat)\n",
    "\n",
    "print(rvecs)\n",
    "print()\n",
    "print(tvecs)\n",
    "\n",
    "rvecs2 = rvecs.copy()\n",
    "tvecs2 = -tvecs"
   ]
  },
  {
   "cell_type": "code",
   "execution_count": 199,
   "metadata": {},
   "outputs": [
    {
     "data": {
      "text/plain": [
       "-1"
      ]
     },
     "execution_count": 199,
     "metadata": {},
     "output_type": "execute_result"
    }
   ],
   "source": [
    "for i,I in enumerate(marker_id_list):\n",
    "    try:\n",
    "        cv2.drawFrameAxes(img, cam_mat, dist_mat, rvecs[i], tvecs[i], 0.25, 3)\n",
    "    except Exception as e:\n",
    "        print(e)\n",
    "\n",
    "cv2.imshow(\"img2\", img)\n",
    "cv2.waitKey(0)"
   ]
  },
  {
   "cell_type": "code",
   "execution_count": 203,
   "metadata": {},
   "outputs": [
    {
     "data": {
      "text/plain": [
       "-1"
      ]
     },
     "execution_count": 203,
     "metadata": {},
     "output_type": "execute_result"
    }
   ],
   "source": [
    "img2 = cv2.imread(\"images/Screenshot from 2023-09-30 18-15-58.png\")\n",
    "\n",
    "for i,I in enumerate(marker_id_list):\n",
    "    try:\n",
    "        cv2.drawFrameAxes(img2, cam_mat, dist_mat, rvecs2[i], tvecs2[i], 0.25, 3)\n",
    "    except Exception as e:\n",
    "        print(e)\n",
    "\n",
    "cv2.imshow(\"img2\", img2)\n",
    "cv2.waitKey(0)"
   ]
  },
  {
   "cell_type": "code",
   "execution_count": null,
   "metadata": {},
   "outputs": [],
   "source": []
  }
 ],
 "metadata": {
  "kernelspec": {
   "display_name": "Python 3",
   "language": "python",
   "name": "python3"
  },
  "language_info": {
   "codemirror_mode": {
    "name": "ipython",
    "version": 3
   },
   "file_extension": ".py",
   "mimetype": "text/x-python",
   "name": "python",
   "nbconvert_exporter": "python",
   "pygments_lexer": "ipython3",
   "version": "3.10.12"
  },
  "orig_nbformat": 4
 },
 "nbformat": 4,
 "nbformat_minor": 2
}
